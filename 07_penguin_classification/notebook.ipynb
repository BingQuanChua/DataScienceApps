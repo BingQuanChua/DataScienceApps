{
 "metadata": {
  "language_info": {
   "codemirror_mode": {
    "name": "ipython",
    "version": 3
   },
   "file_extension": ".py",
   "mimetype": "text/x-python",
   "name": "python",
   "nbconvert_exporter": "python",
   "pygments_lexer": "ipython3",
   "version": "3.8.6"
  },
  "orig_nbformat": 4,
  "kernelspec": {
   "name": "python3",
   "display_name": "Python 3.8.6 64-bit"
  },
  "interpreter": {
   "hash": "1baa965d5efe3ac65b79dfc60c0d706280b1da80fedb7760faf2759126c4f253"
  }
 },
 "nbformat": 4,
 "nbformat_minor": 2,
 "cells": [
  {
   "source": [
    "# Building a Classification Model"
   ],
   "cell_type": "markdown",
   "metadata": {}
  },
  {
   "source": [
    "* Load data from csv\n",
    "* Build a Random Forest Classifier\n",
    "* Pickle the model"
   ],
   "cell_type": "markdown",
   "metadata": {}
  },
  {
   "cell_type": "code",
   "execution_count": 1,
   "metadata": {},
   "outputs": [],
   "source": [
    "import pandas as pd"
   ]
  },
  {
   "cell_type": "code",
   "execution_count": 2,
   "metadata": {},
   "outputs": [
    {
     "output_type": "execute_result",
     "data": {
      "text/plain": [
       "       species     island  bill_length_mm  bill_depth_mm  flipper_length_mm  \\\n",
       "0       Adelie  Torgersen            39.1           18.7                181   \n",
       "1       Adelie  Torgersen            39.5           17.4                186   \n",
       "2       Adelie  Torgersen            40.3           18.0                195   \n",
       "3       Adelie  Torgersen            36.7           19.3                193   \n",
       "4       Adelie  Torgersen            39.3           20.6                190   \n",
       "..         ...        ...             ...            ...                ...   \n",
       "328  Chinstrap      Dream            55.8           19.8                207   \n",
       "329  Chinstrap      Dream            43.5           18.1                202   \n",
       "330  Chinstrap      Dream            49.6           18.2                193   \n",
       "331  Chinstrap      Dream            50.8           19.0                210   \n",
       "332  Chinstrap      Dream            50.2           18.7                198   \n",
       "\n",
       "     body_mass_g     sex  \n",
       "0           3750    male  \n",
       "1           3800  female  \n",
       "2           3250  female  \n",
       "3           3450  female  \n",
       "4           3650    male  \n",
       "..           ...     ...  \n",
       "328         4000    male  \n",
       "329         3400  female  \n",
       "330         3775    male  \n",
       "331         4100    male  \n",
       "332         3775  female  \n",
       "\n",
       "[333 rows x 7 columns]"
      ],
      "text/html": "<div>\n<style scoped>\n    .dataframe tbody tr th:only-of-type {\n        vertical-align: middle;\n    }\n\n    .dataframe tbody tr th {\n        vertical-align: top;\n    }\n\n    .dataframe thead th {\n        text-align: right;\n    }\n</style>\n<table border=\"1\" class=\"dataframe\">\n  <thead>\n    <tr style=\"text-align: right;\">\n      <th></th>\n      <th>species</th>\n      <th>island</th>\n      <th>bill_length_mm</th>\n      <th>bill_depth_mm</th>\n      <th>flipper_length_mm</th>\n      <th>body_mass_g</th>\n      <th>sex</th>\n    </tr>\n  </thead>\n  <tbody>\n    <tr>\n      <th>0</th>\n      <td>Adelie</td>\n      <td>Torgersen</td>\n      <td>39.1</td>\n      <td>18.7</td>\n      <td>181</td>\n      <td>3750</td>\n      <td>male</td>\n    </tr>\n    <tr>\n      <th>1</th>\n      <td>Adelie</td>\n      <td>Torgersen</td>\n      <td>39.5</td>\n      <td>17.4</td>\n      <td>186</td>\n      <td>3800</td>\n      <td>female</td>\n    </tr>\n    <tr>\n      <th>2</th>\n      <td>Adelie</td>\n      <td>Torgersen</td>\n      <td>40.3</td>\n      <td>18.0</td>\n      <td>195</td>\n      <td>3250</td>\n      <td>female</td>\n    </tr>\n    <tr>\n      <th>3</th>\n      <td>Adelie</td>\n      <td>Torgersen</td>\n      <td>36.7</td>\n      <td>19.3</td>\n      <td>193</td>\n      <td>3450</td>\n      <td>female</td>\n    </tr>\n    <tr>\n      <th>4</th>\n      <td>Adelie</td>\n      <td>Torgersen</td>\n      <td>39.3</td>\n      <td>20.6</td>\n      <td>190</td>\n      <td>3650</td>\n      <td>male</td>\n    </tr>\n    <tr>\n      <th>...</th>\n      <td>...</td>\n      <td>...</td>\n      <td>...</td>\n      <td>...</td>\n      <td>...</td>\n      <td>...</td>\n      <td>...</td>\n    </tr>\n    <tr>\n      <th>328</th>\n      <td>Chinstrap</td>\n      <td>Dream</td>\n      <td>55.8</td>\n      <td>19.8</td>\n      <td>207</td>\n      <td>4000</td>\n      <td>male</td>\n    </tr>\n    <tr>\n      <th>329</th>\n      <td>Chinstrap</td>\n      <td>Dream</td>\n      <td>43.5</td>\n      <td>18.1</td>\n      <td>202</td>\n      <td>3400</td>\n      <td>female</td>\n    </tr>\n    <tr>\n      <th>330</th>\n      <td>Chinstrap</td>\n      <td>Dream</td>\n      <td>49.6</td>\n      <td>18.2</td>\n      <td>193</td>\n      <td>3775</td>\n      <td>male</td>\n    </tr>\n    <tr>\n      <th>331</th>\n      <td>Chinstrap</td>\n      <td>Dream</td>\n      <td>50.8</td>\n      <td>19.0</td>\n      <td>210</td>\n      <td>4100</td>\n      <td>male</td>\n    </tr>\n    <tr>\n      <th>332</th>\n      <td>Chinstrap</td>\n      <td>Dream</td>\n      <td>50.2</td>\n      <td>18.7</td>\n      <td>198</td>\n      <td>3775</td>\n      <td>female</td>\n    </tr>\n  </tbody>\n</table>\n<p>333 rows × 7 columns</p>\n</div>"
     },
     "metadata": {},
     "execution_count": 2
    }
   ],
   "source": [
    "penguins = pd.read_csv('penguins_cleaned.csv')\n",
    "penguins"
   ]
  },
  {
   "cell_type": "code",
   "execution_count": 3,
   "metadata": {},
   "outputs": [
    {
     "output_type": "execute_result",
     "data": {
      "text/plain": [
       "       species  bill_length_mm  bill_depth_mm  flipper_length_mm  body_mass_g  \\\n",
       "0       Adelie            39.1           18.7                181         3750   \n",
       "1       Adelie            39.5           17.4                186         3800   \n",
       "2       Adelie            40.3           18.0                195         3250   \n",
       "3       Adelie            36.7           19.3                193         3450   \n",
       "4       Adelie            39.3           20.6                190         3650   \n",
       "..         ...             ...            ...                ...          ...   \n",
       "328  Chinstrap            55.8           19.8                207         4000   \n",
       "329  Chinstrap            43.5           18.1                202         3400   \n",
       "330  Chinstrap            49.6           18.2                193         3775   \n",
       "331  Chinstrap            50.8           19.0                210         4100   \n",
       "332  Chinstrap            50.2           18.7                198         3775   \n",
       "\n",
       "     sex_female  sex_male  island_Biscoe  island_Dream  island_Torgersen  \n",
       "0             0         1              0             0                 1  \n",
       "1             1         0              0             0                 1  \n",
       "2             1         0              0             0                 1  \n",
       "3             1         0              0             0                 1  \n",
       "4             0         1              0             0                 1  \n",
       "..          ...       ...            ...           ...               ...  \n",
       "328           0         1              0             1                 0  \n",
       "329           1         0              0             1                 0  \n",
       "330           0         1              0             1                 0  \n",
       "331           0         1              0             1                 0  \n",
       "332           1         0              0             1                 0  \n",
       "\n",
       "[333 rows x 10 columns]"
      ],
      "text/html": "<div>\n<style scoped>\n    .dataframe tbody tr th:only-of-type {\n        vertical-align: middle;\n    }\n\n    .dataframe tbody tr th {\n        vertical-align: top;\n    }\n\n    .dataframe thead th {\n        text-align: right;\n    }\n</style>\n<table border=\"1\" class=\"dataframe\">\n  <thead>\n    <tr style=\"text-align: right;\">\n      <th></th>\n      <th>species</th>\n      <th>bill_length_mm</th>\n      <th>bill_depth_mm</th>\n      <th>flipper_length_mm</th>\n      <th>body_mass_g</th>\n      <th>sex_female</th>\n      <th>sex_male</th>\n      <th>island_Biscoe</th>\n      <th>island_Dream</th>\n      <th>island_Torgersen</th>\n    </tr>\n  </thead>\n  <tbody>\n    <tr>\n      <th>0</th>\n      <td>Adelie</td>\n      <td>39.1</td>\n      <td>18.7</td>\n      <td>181</td>\n      <td>3750</td>\n      <td>0</td>\n      <td>1</td>\n      <td>0</td>\n      <td>0</td>\n      <td>1</td>\n    </tr>\n    <tr>\n      <th>1</th>\n      <td>Adelie</td>\n      <td>39.5</td>\n      <td>17.4</td>\n      <td>186</td>\n      <td>3800</td>\n      <td>1</td>\n      <td>0</td>\n      <td>0</td>\n      <td>0</td>\n      <td>1</td>\n    </tr>\n    <tr>\n      <th>2</th>\n      <td>Adelie</td>\n      <td>40.3</td>\n      <td>18.0</td>\n      <td>195</td>\n      <td>3250</td>\n      <td>1</td>\n      <td>0</td>\n      <td>0</td>\n      <td>0</td>\n      <td>1</td>\n    </tr>\n    <tr>\n      <th>3</th>\n      <td>Adelie</td>\n      <td>36.7</td>\n      <td>19.3</td>\n      <td>193</td>\n      <td>3450</td>\n      <td>1</td>\n      <td>0</td>\n      <td>0</td>\n      <td>0</td>\n      <td>1</td>\n    </tr>\n    <tr>\n      <th>4</th>\n      <td>Adelie</td>\n      <td>39.3</td>\n      <td>20.6</td>\n      <td>190</td>\n      <td>3650</td>\n      <td>0</td>\n      <td>1</td>\n      <td>0</td>\n      <td>0</td>\n      <td>1</td>\n    </tr>\n    <tr>\n      <th>...</th>\n      <td>...</td>\n      <td>...</td>\n      <td>...</td>\n      <td>...</td>\n      <td>...</td>\n      <td>...</td>\n      <td>...</td>\n      <td>...</td>\n      <td>...</td>\n      <td>...</td>\n    </tr>\n    <tr>\n      <th>328</th>\n      <td>Chinstrap</td>\n      <td>55.8</td>\n      <td>19.8</td>\n      <td>207</td>\n      <td>4000</td>\n      <td>0</td>\n      <td>1</td>\n      <td>0</td>\n      <td>1</td>\n      <td>0</td>\n    </tr>\n    <tr>\n      <th>329</th>\n      <td>Chinstrap</td>\n      <td>43.5</td>\n      <td>18.1</td>\n      <td>202</td>\n      <td>3400</td>\n      <td>1</td>\n      <td>0</td>\n      <td>0</td>\n      <td>1</td>\n      <td>0</td>\n    </tr>\n    <tr>\n      <th>330</th>\n      <td>Chinstrap</td>\n      <td>49.6</td>\n      <td>18.2</td>\n      <td>193</td>\n      <td>3775</td>\n      <td>0</td>\n      <td>1</td>\n      <td>0</td>\n      <td>1</td>\n      <td>0</td>\n    </tr>\n    <tr>\n      <th>331</th>\n      <td>Chinstrap</td>\n      <td>50.8</td>\n      <td>19.0</td>\n      <td>210</td>\n      <td>4100</td>\n      <td>0</td>\n      <td>1</td>\n      <td>0</td>\n      <td>1</td>\n      <td>0</td>\n    </tr>\n    <tr>\n      <th>332</th>\n      <td>Chinstrap</td>\n      <td>50.2</td>\n      <td>18.7</td>\n      <td>198</td>\n      <td>3775</td>\n      <td>1</td>\n      <td>0</td>\n      <td>0</td>\n      <td>1</td>\n      <td>0</td>\n    </tr>\n  </tbody>\n</table>\n<p>333 rows × 10 columns</p>\n</div>"
     },
     "metadata": {},
     "execution_count": 3
    }
   ],
   "source": [
    "# Encode sex and island into new columns\n",
    "\n",
    "df = penguins.copy()\n",
    "target = 'species' # to predict\n",
    "encode = ['sex', 'island']\n",
    "\n",
    "for col in encode:\n",
    "    dummy = pd.get_dummies(df[col], prefix=col)\n",
    "    df = pd.concat([df,dummy], axis=1)\n",
    "    del df[col]\n",
    "\n",
    "df"
   ]
  },
  {
   "cell_type": "code",
   "execution_count": 4,
   "metadata": {},
   "outputs": [
    {
     "output_type": "execute_result",
     "data": {
      "text/plain": [
       "     species  bill_length_mm  bill_depth_mm  flipper_length_mm  body_mass_g  \\\n",
       "0          2            39.1           18.7                181         3750   \n",
       "1          2            39.5           17.4                186         3800   \n",
       "2          2            40.3           18.0                195         3250   \n",
       "3          2            36.7           19.3                193         3450   \n",
       "4          2            39.3           20.6                190         3650   \n",
       "..       ...             ...            ...                ...          ...   \n",
       "328        0            55.8           19.8                207         4000   \n",
       "329        0            43.5           18.1                202         3400   \n",
       "330        0            49.6           18.2                193         3775   \n",
       "331        0            50.8           19.0                210         4100   \n",
       "332        0            50.2           18.7                198         3775   \n",
       "\n",
       "     sex_female  sex_male  island_Biscoe  island_Dream  island_Torgersen  \n",
       "0             0         1              0             0                 1  \n",
       "1             1         0              0             0                 1  \n",
       "2             1         0              0             0                 1  \n",
       "3             1         0              0             0                 1  \n",
       "4             0         1              0             0                 1  \n",
       "..          ...       ...            ...           ...               ...  \n",
       "328           0         1              0             1                 0  \n",
       "329           1         0              0             1                 0  \n",
       "330           0         1              0             1                 0  \n",
       "331           0         1              0             1                 0  \n",
       "332           1         0              0             1                 0  \n",
       "\n",
       "[333 rows x 10 columns]"
      ],
      "text/html": "<div>\n<style scoped>\n    .dataframe tbody tr th:only-of-type {\n        vertical-align: middle;\n    }\n\n    .dataframe tbody tr th {\n        vertical-align: top;\n    }\n\n    .dataframe thead th {\n        text-align: right;\n    }\n</style>\n<table border=\"1\" class=\"dataframe\">\n  <thead>\n    <tr style=\"text-align: right;\">\n      <th></th>\n      <th>species</th>\n      <th>bill_length_mm</th>\n      <th>bill_depth_mm</th>\n      <th>flipper_length_mm</th>\n      <th>body_mass_g</th>\n      <th>sex_female</th>\n      <th>sex_male</th>\n      <th>island_Biscoe</th>\n      <th>island_Dream</th>\n      <th>island_Torgersen</th>\n    </tr>\n  </thead>\n  <tbody>\n    <tr>\n      <th>0</th>\n      <td>2</td>\n      <td>39.1</td>\n      <td>18.7</td>\n      <td>181</td>\n      <td>3750</td>\n      <td>0</td>\n      <td>1</td>\n      <td>0</td>\n      <td>0</td>\n      <td>1</td>\n    </tr>\n    <tr>\n      <th>1</th>\n      <td>2</td>\n      <td>39.5</td>\n      <td>17.4</td>\n      <td>186</td>\n      <td>3800</td>\n      <td>1</td>\n      <td>0</td>\n      <td>0</td>\n      <td>0</td>\n      <td>1</td>\n    </tr>\n    <tr>\n      <th>2</th>\n      <td>2</td>\n      <td>40.3</td>\n      <td>18.0</td>\n      <td>195</td>\n      <td>3250</td>\n      <td>1</td>\n      <td>0</td>\n      <td>0</td>\n      <td>0</td>\n      <td>1</td>\n    </tr>\n    <tr>\n      <th>3</th>\n      <td>2</td>\n      <td>36.7</td>\n      <td>19.3</td>\n      <td>193</td>\n      <td>3450</td>\n      <td>1</td>\n      <td>0</td>\n      <td>0</td>\n      <td>0</td>\n      <td>1</td>\n    </tr>\n    <tr>\n      <th>4</th>\n      <td>2</td>\n      <td>39.3</td>\n      <td>20.6</td>\n      <td>190</td>\n      <td>3650</td>\n      <td>0</td>\n      <td>1</td>\n      <td>0</td>\n      <td>0</td>\n      <td>1</td>\n    </tr>\n    <tr>\n      <th>...</th>\n      <td>...</td>\n      <td>...</td>\n      <td>...</td>\n      <td>...</td>\n      <td>...</td>\n      <td>...</td>\n      <td>...</td>\n      <td>...</td>\n      <td>...</td>\n      <td>...</td>\n    </tr>\n    <tr>\n      <th>328</th>\n      <td>0</td>\n      <td>55.8</td>\n      <td>19.8</td>\n      <td>207</td>\n      <td>4000</td>\n      <td>0</td>\n      <td>1</td>\n      <td>0</td>\n      <td>1</td>\n      <td>0</td>\n    </tr>\n    <tr>\n      <th>329</th>\n      <td>0</td>\n      <td>43.5</td>\n      <td>18.1</td>\n      <td>202</td>\n      <td>3400</td>\n      <td>1</td>\n      <td>0</td>\n      <td>0</td>\n      <td>1</td>\n      <td>0</td>\n    </tr>\n    <tr>\n      <th>330</th>\n      <td>0</td>\n      <td>49.6</td>\n      <td>18.2</td>\n      <td>193</td>\n      <td>3775</td>\n      <td>0</td>\n      <td>1</td>\n      <td>0</td>\n      <td>1</td>\n      <td>0</td>\n    </tr>\n    <tr>\n      <th>331</th>\n      <td>0</td>\n      <td>50.8</td>\n      <td>19.0</td>\n      <td>210</td>\n      <td>4100</td>\n      <td>0</td>\n      <td>1</td>\n      <td>0</td>\n      <td>1</td>\n      <td>0</td>\n    </tr>\n    <tr>\n      <th>332</th>\n      <td>0</td>\n      <td>50.2</td>\n      <td>18.7</td>\n      <td>198</td>\n      <td>3775</td>\n      <td>1</td>\n      <td>0</td>\n      <td>0</td>\n      <td>1</td>\n      <td>0</td>\n    </tr>\n  </tbody>\n</table>\n<p>333 rows × 10 columns</p>\n</div>"
     },
     "metadata": {},
     "execution_count": 4
    }
   ],
   "source": [
    "# Encode species (data mapping)\n",
    "\n",
    "target_mapper = {'Chinstrap': 0, 'Gentoo': 1, 'Adelie': 2}\n",
    "\n",
    "def target_encode(val):\n",
    "    return target_mapper[val]\n",
    "\n",
    "df['species'] = df['species'].apply(target_encode)\n",
    "\n",
    "df\n"
   ]
  },
  {
   "cell_type": "code",
   "execution_count": 5,
   "metadata": {},
   "outputs": [
    {
     "output_type": "execute_result",
     "data": {
      "text/plain": [
       "     bill_length_mm  bill_depth_mm  flipper_length_mm  body_mass_g  \\\n",
       "0              39.1           18.7                181         3750   \n",
       "1              39.5           17.4                186         3800   \n",
       "2              40.3           18.0                195         3250   \n",
       "3              36.7           19.3                193         3450   \n",
       "4              39.3           20.6                190         3650   \n",
       "..              ...            ...                ...          ...   \n",
       "328            55.8           19.8                207         4000   \n",
       "329            43.5           18.1                202         3400   \n",
       "330            49.6           18.2                193         3775   \n",
       "331            50.8           19.0                210         4100   \n",
       "332            50.2           18.7                198         3775   \n",
       "\n",
       "     sex_female  sex_male  island_Biscoe  island_Dream  island_Torgersen  \n",
       "0             0         1              0             0                 1  \n",
       "1             1         0              0             0                 1  \n",
       "2             1         0              0             0                 1  \n",
       "3             1         0              0             0                 1  \n",
       "4             0         1              0             0                 1  \n",
       "..          ...       ...            ...           ...               ...  \n",
       "328           0         1              0             1                 0  \n",
       "329           1         0              0             1                 0  \n",
       "330           0         1              0             1                 0  \n",
       "331           0         1              0             1                 0  \n",
       "332           1         0              0             1                 0  \n",
       "\n",
       "[333 rows x 9 columns]"
      ],
      "text/html": "<div>\n<style scoped>\n    .dataframe tbody tr th:only-of-type {\n        vertical-align: middle;\n    }\n\n    .dataframe tbody tr th {\n        vertical-align: top;\n    }\n\n    .dataframe thead th {\n        text-align: right;\n    }\n</style>\n<table border=\"1\" class=\"dataframe\">\n  <thead>\n    <tr style=\"text-align: right;\">\n      <th></th>\n      <th>bill_length_mm</th>\n      <th>bill_depth_mm</th>\n      <th>flipper_length_mm</th>\n      <th>body_mass_g</th>\n      <th>sex_female</th>\n      <th>sex_male</th>\n      <th>island_Biscoe</th>\n      <th>island_Dream</th>\n      <th>island_Torgersen</th>\n    </tr>\n  </thead>\n  <tbody>\n    <tr>\n      <th>0</th>\n      <td>39.1</td>\n      <td>18.7</td>\n      <td>181</td>\n      <td>3750</td>\n      <td>0</td>\n      <td>1</td>\n      <td>0</td>\n      <td>0</td>\n      <td>1</td>\n    </tr>\n    <tr>\n      <th>1</th>\n      <td>39.5</td>\n      <td>17.4</td>\n      <td>186</td>\n      <td>3800</td>\n      <td>1</td>\n      <td>0</td>\n      <td>0</td>\n      <td>0</td>\n      <td>1</td>\n    </tr>\n    <tr>\n      <th>2</th>\n      <td>40.3</td>\n      <td>18.0</td>\n      <td>195</td>\n      <td>3250</td>\n      <td>1</td>\n      <td>0</td>\n      <td>0</td>\n      <td>0</td>\n      <td>1</td>\n    </tr>\n    <tr>\n      <th>3</th>\n      <td>36.7</td>\n      <td>19.3</td>\n      <td>193</td>\n      <td>3450</td>\n      <td>1</td>\n      <td>0</td>\n      <td>0</td>\n      <td>0</td>\n      <td>1</td>\n    </tr>\n    <tr>\n      <th>4</th>\n      <td>39.3</td>\n      <td>20.6</td>\n      <td>190</td>\n      <td>3650</td>\n      <td>0</td>\n      <td>1</td>\n      <td>0</td>\n      <td>0</td>\n      <td>1</td>\n    </tr>\n    <tr>\n      <th>...</th>\n      <td>...</td>\n      <td>...</td>\n      <td>...</td>\n      <td>...</td>\n      <td>...</td>\n      <td>...</td>\n      <td>...</td>\n      <td>...</td>\n      <td>...</td>\n    </tr>\n    <tr>\n      <th>328</th>\n      <td>55.8</td>\n      <td>19.8</td>\n      <td>207</td>\n      <td>4000</td>\n      <td>0</td>\n      <td>1</td>\n      <td>0</td>\n      <td>1</td>\n      <td>0</td>\n    </tr>\n    <tr>\n      <th>329</th>\n      <td>43.5</td>\n      <td>18.1</td>\n      <td>202</td>\n      <td>3400</td>\n      <td>1</td>\n      <td>0</td>\n      <td>0</td>\n      <td>1</td>\n      <td>0</td>\n    </tr>\n    <tr>\n      <th>330</th>\n      <td>49.6</td>\n      <td>18.2</td>\n      <td>193</td>\n      <td>3775</td>\n      <td>0</td>\n      <td>1</td>\n      <td>0</td>\n      <td>1</td>\n      <td>0</td>\n    </tr>\n    <tr>\n      <th>331</th>\n      <td>50.8</td>\n      <td>19.0</td>\n      <td>210</td>\n      <td>4100</td>\n      <td>0</td>\n      <td>1</td>\n      <td>0</td>\n      <td>1</td>\n      <td>0</td>\n    </tr>\n    <tr>\n      <th>332</th>\n      <td>50.2</td>\n      <td>18.7</td>\n      <td>198</td>\n      <td>3775</td>\n      <td>1</td>\n      <td>0</td>\n      <td>0</td>\n      <td>1</td>\n      <td>0</td>\n    </tr>\n  </tbody>\n</table>\n<p>333 rows × 9 columns</p>\n</div>"
     },
     "metadata": {},
     "execution_count": 5
    }
   ],
   "source": [
    "X = df.drop('species', axis=1)\n",
    "X"
   ]
  },
  {
   "cell_type": "code",
   "execution_count": 6,
   "metadata": {},
   "outputs": [
    {
     "output_type": "execute_result",
     "data": {
      "text/plain": [
       "0      2\n",
       "1      2\n",
       "2      2\n",
       "3      2\n",
       "4      2\n",
       "      ..\n",
       "328    0\n",
       "329    0\n",
       "330    0\n",
       "331    0\n",
       "332    0\n",
       "Name: species, Length: 333, dtype: int64"
      ]
     },
     "metadata": {},
     "execution_count": 6
    }
   ],
   "source": [
    "Y = df['species']\n",
    "Y"
   ]
  },
  {
   "cell_type": "code",
   "execution_count": 7,
   "metadata": {},
   "outputs": [
    {
     "output_type": "execute_result",
     "data": {
      "text/plain": [
       "RandomForestClassifier()"
      ]
     },
     "metadata": {},
     "execution_count": 7
    }
   ],
   "source": [
    "from sklearn.ensemble import RandomForestClassifier\n",
    "clf = RandomForestClassifier()\n",
    "clf.fit(X, Y)"
   ]
  },
  {
   "cell_type": "code",
   "execution_count": 8,
   "metadata": {},
   "outputs": [
    {
     "output_type": "stream",
     "name": "stdout",
     "text": [
      "Success!\n"
     ]
    }
   ],
   "source": [
    "import pickle\n",
    "pickle.dump(clf, open('penguins_clf.pkl', 'wb'))\n",
    "print(\"Success!\")"
   ]
  }
 ]
}